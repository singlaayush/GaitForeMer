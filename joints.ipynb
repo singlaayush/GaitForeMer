{
 "cells": [
  {
   "cell_type": "code",
   "execution_count": 2,
   "metadata": {},
   "outputs": [],
   "source": [
    "import joblib\n",
    "import numpy as np\n",
    "from pathlib import Path\n",
    "import pandas as pd\n",
    "from sklearn.model_selection import StratifiedKFold, LeaveOneOut"
   ]
  },
  {
   "attachments": {},
   "cell_type": "markdown",
   "metadata": {},
   "source": [
    "N = 164"
   ]
  },
  {
   "cell_type": "code",
   "execution_count": 3,
   "metadata": {},
   "outputs": [],
   "source": [
    "# mapping from 17 SMPL joints to NTU (1-base)\n",
    "# 'spine'/'spine1' = 3/6 -> 2 = 'middle of the spine' (only one spine joint recorded in NTU)\n",
    "#  NTU Order:    1, 2,  3,  4,  5,  6,  7,  9, 10, 11, 13, 14, 15, 17, 18, 19, 21\n",
    "_MAJOR_JOINTS = [0, 3, 12, 15, 13, 16, 18, 14, 17, 19,  1,  4,  7,  2,  5, 11,  9]  # SMPL Order\n",
    "joints_dict = joblib.load(\"/home/ayushsingla/humor_dev/data/clinical/all_joints.pkl\") "
   ]
  },
  {
   "cell_type": "code",
   "execution_count": 4,
   "metadata": {},
   "outputs": [
    {
     "name": "stdout",
     "output_type": "stream",
     "text": [
      "0    141\n",
      "1     24\n",
      "Name: Y, dtype: int64\n"
     ]
    },
    {
     "name": "stderr",
     "output_type": "stream",
     "text": [
      "/home/ayushsingla/humor_dev/venv/lib/python3.7/site-packages/ipykernel_launcher.py:17: VisibleDeprecationWarning: Creating an ndarray from ragged nested sequences (which is a list-or-tuple of lists-or-tuples-or ndarrays with different lengths or shapes) is deprecated. If you meant to do this, you must specify 'dtype=object' when creating the ndarray.\n",
      "  app.launch_new_instance()\n"
     ]
    }
   ],
   "source": [
    "data_dir = \"/home/ayushsingla/humor_dev/GaitForeMer/data/labels/\"\n",
    "def data_generator(data_dict, csv_file):\n",
    "    df = pd.read_csv(Path(data_dir) / csv_file)\n",
    "    print(df['Y'].value_counts())\n",
    "    X_1 = []\n",
    "    Y = []\n",
    "    for key in data_dict.keys():\n",
    "        p = np.copy(data_dict[key][:,_MAJOR_JOINTS,:])\n",
    "        label = int(df.loc[df['ID'] == int(key)]['Y'].values[0])\n",
    "        X_1.append(p)\n",
    "        Y.append(label)\n",
    "    return X_1, np.stack(Y)\n",
    "\n",
    "csv_file = \"binary_combined.csv\"\n",
    "data_dict = joblib.load(\"/home/ayushsingla/humor_dev/data/clinical/all_joints.pkl\") \n",
    "X, Y = data_generator(data_dict, csv_file)\n",
    "X_nd = np.array(X)"
   ]
  },
  {
   "cell_type": "code",
   "execution_count": 9,
   "metadata": {},
   "outputs": [
    {
     "data": {
      "text/plain": [
       "array([1.17021277, 7.17391304])"
      ]
     },
     "execution_count": 9,
     "metadata": {},
     "output_type": "execute_result"
    }
   ],
   "source": [
    "165 / np.bincount(Y)"
   ]
  },
  {
   "cell_type": "code",
   "execution_count": 11,
   "metadata": {},
   "outputs": [
    {
     "data": {
      "text/plain": [
       "0"
      ]
     },
     "execution_count": 11,
     "metadata": {},
     "output_type": "execute_result"
    }
   ],
   "source": [
    "Y[0]"
   ]
  },
  {
   "cell_type": "code",
   "execution_count": 4,
   "metadata": {},
   "outputs": [
    {
     "name": "stdout",
     "output_type": "stream",
     "text": [
      "Mean: 469.8536585365854; STD: 127.31635477790033\n"
     ]
    }
   ],
   "source": [
    "print(f\"Mean: {np.mean([x.shape[0] for x in X_nd])}; STD: {np.std([x.shape[0] for x in X_nd])}\")"
   ]
  },
  {
   "cell_type": "code",
   "execution_count": 5,
   "metadata": {},
   "outputs": [
    {
     "data": {
      "text/plain": [
       "10"
      ]
     },
     "execution_count": 5,
     "metadata": {},
     "output_type": "execute_result"
    }
   ],
   "source": [
    "skf = StratifiedKFold(n_splits=10)\n",
    "skf.get_n_splits(X_nd, Y)"
   ]
  },
  {
   "cell_type": "code",
   "execution_count": 6,
   "metadata": {},
   "outputs": [
    {
     "name": "stdout",
     "output_type": "stream",
     "text": [
      "Fold 0:\n",
      "  train len=147\n",
      "  test len=17\n",
      "Fold 1:\n",
      "  train len=147\n",
      "  test len=17\n",
      "Fold 2:\n",
      "  train len=147\n",
      "  test len=17\n",
      "Fold 3:\n",
      "  train len=147\n",
      "  test len=17\n",
      "Fold 4:\n",
      "  train len=148\n",
      "  test len=16\n",
      "Fold 5:\n",
      "  train len=148\n",
      "  test len=16\n",
      "Fold 6:\n",
      "  train len=148\n",
      "  test len=16\n",
      "Fold 7:\n",
      "  train len=148\n",
      "  test len=16\n",
      "Fold 8:\n",
      "  train len=148\n",
      "  test len=16\n",
      "Fold 9:\n",
      "  train len=148\n",
      "  test len=16\n"
     ]
    }
   ],
   "source": [
    "data_folder = Path(f\"/home/ayushsingla/humor_dev/GaitForeMer/data/smpl_k_fold/{Path(csv_file).stem}\")\n",
    "data_folder.mkdir(exist_ok=True)\n",
    "for i, (train_index, test_index) in enumerate(skf.split(X_nd, Y)):\n",
    "    print(f\"Fold {i}:\")\n",
    "    print(f\"  train len={len(train_index)}\")\n",
    "    print(f\"  test len={len(test_index)}\")\n",
    "    train = X_nd[train_index], Y[train_index]\n",
    "    test = X_nd[test_index], Y[test_index]\n",
    "    joblib.dump(train, f\"{data_folder}/train{i}.pkl\")\n",
    "    joblib.dump(test, f\"{data_folder}/test{i}.pkl\")"
   ]
  }
 ],
 "metadata": {
  "kernelspec": {
   "display_name": "venv",
   "language": "python",
   "name": "python3"
  },
  "language_info": {
   "codemirror_mode": {
    "name": "ipython",
    "version": 3
   },
   "file_extension": ".py",
   "mimetype": "text/x-python",
   "name": "python",
   "nbconvert_exporter": "python",
   "pygments_lexer": "ipython3",
   "version": "3.7.12"
  },
  "orig_nbformat": 4,
  "vscode": {
   "interpreter": {
    "hash": "170361a79b2b9da3ff797fb2a74ac726c520765226abd2c932b224a86f1d7acf"
   }
  }
 },
 "nbformat": 4,
 "nbformat_minor": 2
}
